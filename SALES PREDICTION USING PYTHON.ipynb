{
 "cells": [
  {
   "cell_type": "code",
   "execution_count": 4,
   "id": "ba43e18f-4f1e-4de8-ae0b-aad44cea81c8",
   "metadata": {
    "tags": []
   },
   "outputs": [],
   "source": [
    "import pandas as pd\n",
    "import numpy as np\n",
    "import warnings\n",
    "warnings.filterwarnings('ignore')"
   ]
  },
  {
   "cell_type": "code",
   "execution_count": 6,
   "id": "52b06aea-223a-402a-bcd2-17e3c4893365",
   "metadata": {
    "tags": []
   },
   "outputs": [],
   "source": [
    "df = pd.read_csv('Advertising.csv')"
   ]
  },
  {
   "cell_type": "code",
   "execution_count": 7,
   "id": "f34583e5-948c-4989-a453-f75b199354e8",
   "metadata": {
    "tags": []
   },
   "outputs": [
    {
     "data": {
      "text/html": [
       "<div>\n",
       "<style scoped>\n",
       "    .dataframe tbody tr th:only-of-type {\n",
       "        vertical-align: middle;\n",
       "    }\n",
       "\n",
       "    .dataframe tbody tr th {\n",
       "        vertical-align: top;\n",
       "    }\n",
       "\n",
       "    .dataframe thead th {\n",
       "        text-align: right;\n",
       "    }\n",
       "</style>\n",
       "<table border=\"1\" class=\"dataframe\">\n",
       "  <thead>\n",
       "    <tr style=\"text-align: right;\">\n",
       "      <th></th>\n",
       "      <th>Unnamed: 0</th>\n",
       "      <th>TV</th>\n",
       "      <th>Radio</th>\n",
       "      <th>Newspaper</th>\n",
       "      <th>Sales</th>\n",
       "    </tr>\n",
       "  </thead>\n",
       "  <tbody>\n",
       "    <tr>\n",
       "      <th>0</th>\n",
       "      <td>1</td>\n",
       "      <td>230.1</td>\n",
       "      <td>37.8</td>\n",
       "      <td>69.2</td>\n",
       "      <td>22.1</td>\n",
       "    </tr>\n",
       "    <tr>\n",
       "      <th>1</th>\n",
       "      <td>2</td>\n",
       "      <td>44.5</td>\n",
       "      <td>39.3</td>\n",
       "      <td>45.1</td>\n",
       "      <td>10.4</td>\n",
       "    </tr>\n",
       "    <tr>\n",
       "      <th>2</th>\n",
       "      <td>3</td>\n",
       "      <td>17.2</td>\n",
       "      <td>45.9</td>\n",
       "      <td>69.3</td>\n",
       "      <td>9.3</td>\n",
       "    </tr>\n",
       "    <tr>\n",
       "      <th>3</th>\n",
       "      <td>4</td>\n",
       "      <td>151.5</td>\n",
       "      <td>41.3</td>\n",
       "      <td>58.5</td>\n",
       "      <td>18.5</td>\n",
       "    </tr>\n",
       "    <tr>\n",
       "      <th>4</th>\n",
       "      <td>5</td>\n",
       "      <td>180.8</td>\n",
       "      <td>10.8</td>\n",
       "      <td>58.4</td>\n",
       "      <td>12.9</td>\n",
       "    </tr>\n",
       "  </tbody>\n",
       "</table>\n",
       "</div>"
      ],
      "text/plain": [
       "   Unnamed: 0     TV  Radio  Newspaper  Sales\n",
       "0           1  230.1   37.8       69.2   22.1\n",
       "1           2   44.5   39.3       45.1   10.4\n",
       "2           3   17.2   45.9       69.3    9.3\n",
       "3           4  151.5   41.3       58.5   18.5\n",
       "4           5  180.8   10.8       58.4   12.9"
      ]
     },
     "execution_count": 7,
     "metadata": {},
     "output_type": "execute_result"
    }
   ],
   "source": [
    "df.head()"
   ]
  },
  {
   "cell_type": "code",
   "execution_count": 8,
   "id": "b0819a0f-40f1-43a4-b5c1-cc38da0efdfe",
   "metadata": {
    "tags": []
   },
   "outputs": [
    {
     "data": {
      "text/plain": [
       "(200, 5)"
      ]
     },
     "execution_count": 8,
     "metadata": {},
     "output_type": "execute_result"
    }
   ],
   "source": [
    "df.shape"
   ]
  },
  {
   "cell_type": "code",
   "execution_count": 9,
   "id": "7b905c4b-6286-41e2-8cfe-98de36c90288",
   "metadata": {
    "tags": []
   },
   "outputs": [
    {
     "data": {
      "text/plain": [
       "['Unnamed: 0', 'TV', 'Radio', 'Newspaper', 'Sales']"
      ]
     },
     "execution_count": 9,
     "metadata": {},
     "output_type": "execute_result"
    }
   ],
   "source": [
    "df.columns.values.tolist()"
   ]
  },
  {
   "cell_type": "code",
   "execution_count": 10,
   "id": "cca1e508-aa01-4c2f-ab84-8ac1273e8129",
   "metadata": {
    "tags": []
   },
   "outputs": [
    {
     "name": "stdout",
     "output_type": "stream",
     "text": [
      "<class 'pandas.core.frame.DataFrame'>\n",
      "RangeIndex: 200 entries, 0 to 199\n",
      "Data columns (total 5 columns):\n",
      " #   Column      Non-Null Count  Dtype  \n",
      "---  ------      --------------  -----  \n",
      " 0   Unnamed: 0  200 non-null    int64  \n",
      " 1   TV          200 non-null    float64\n",
      " 2   Radio       200 non-null    float64\n",
      " 3   Newspaper   200 non-null    float64\n",
      " 4   Sales       200 non-null    float64\n",
      "dtypes: float64(4), int64(1)\n",
      "memory usage: 7.9 KB\n"
     ]
    }
   ],
   "source": [
    "df.info()"
   ]
  },
  {
   "cell_type": "code",
   "execution_count": 11,
   "id": "f4eb6256-debf-4039-a406-1c47ae6881b1",
   "metadata": {
    "tags": []
   },
   "outputs": [
    {
     "data": {
      "text/html": [
       "<div>\n",
       "<style scoped>\n",
       "    .dataframe tbody tr th:only-of-type {\n",
       "        vertical-align: middle;\n",
       "    }\n",
       "\n",
       "    .dataframe tbody tr th {\n",
       "        vertical-align: top;\n",
       "    }\n",
       "\n",
       "    .dataframe thead th {\n",
       "        text-align: right;\n",
       "    }\n",
       "</style>\n",
       "<table border=\"1\" class=\"dataframe\">\n",
       "  <thead>\n",
       "    <tr style=\"text-align: right;\">\n",
       "      <th></th>\n",
       "      <th>Unnamed: 0</th>\n",
       "      <th>TV</th>\n",
       "      <th>Radio</th>\n",
       "      <th>Newspaper</th>\n",
       "      <th>Sales</th>\n",
       "    </tr>\n",
       "  </thead>\n",
       "  <tbody>\n",
       "    <tr>\n",
       "      <th>count</th>\n",
       "      <td>200.000000</td>\n",
       "      <td>200.000000</td>\n",
       "      <td>200.000000</td>\n",
       "      <td>200.000000</td>\n",
       "      <td>200.000000</td>\n",
       "    </tr>\n",
       "    <tr>\n",
       "      <th>mean</th>\n",
       "      <td>100.500000</td>\n",
       "      <td>147.042500</td>\n",
       "      <td>23.264000</td>\n",
       "      <td>30.554000</td>\n",
       "      <td>14.022500</td>\n",
       "    </tr>\n",
       "    <tr>\n",
       "      <th>std</th>\n",
       "      <td>57.879185</td>\n",
       "      <td>85.854236</td>\n",
       "      <td>14.846809</td>\n",
       "      <td>21.778621</td>\n",
       "      <td>5.217457</td>\n",
       "    </tr>\n",
       "    <tr>\n",
       "      <th>min</th>\n",
       "      <td>1.000000</td>\n",
       "      <td>0.700000</td>\n",
       "      <td>0.000000</td>\n",
       "      <td>0.300000</td>\n",
       "      <td>1.600000</td>\n",
       "    </tr>\n",
       "    <tr>\n",
       "      <th>25%</th>\n",
       "      <td>50.750000</td>\n",
       "      <td>74.375000</td>\n",
       "      <td>9.975000</td>\n",
       "      <td>12.750000</td>\n",
       "      <td>10.375000</td>\n",
       "    </tr>\n",
       "    <tr>\n",
       "      <th>50%</th>\n",
       "      <td>100.500000</td>\n",
       "      <td>149.750000</td>\n",
       "      <td>22.900000</td>\n",
       "      <td>25.750000</td>\n",
       "      <td>12.900000</td>\n",
       "    </tr>\n",
       "    <tr>\n",
       "      <th>75%</th>\n",
       "      <td>150.250000</td>\n",
       "      <td>218.825000</td>\n",
       "      <td>36.525000</td>\n",
       "      <td>45.100000</td>\n",
       "      <td>17.400000</td>\n",
       "    </tr>\n",
       "    <tr>\n",
       "      <th>max</th>\n",
       "      <td>200.000000</td>\n",
       "      <td>296.400000</td>\n",
       "      <td>49.600000</td>\n",
       "      <td>114.000000</td>\n",
       "      <td>27.000000</td>\n",
       "    </tr>\n",
       "  </tbody>\n",
       "</table>\n",
       "</div>"
      ],
      "text/plain": [
       "       Unnamed: 0          TV       Radio   Newspaper       Sales\n",
       "count  200.000000  200.000000  200.000000  200.000000  200.000000\n",
       "mean   100.500000  147.042500   23.264000   30.554000   14.022500\n",
       "std     57.879185   85.854236   14.846809   21.778621    5.217457\n",
       "min      1.000000    0.700000    0.000000    0.300000    1.600000\n",
       "25%     50.750000   74.375000    9.975000   12.750000   10.375000\n",
       "50%    100.500000  149.750000   22.900000   25.750000   12.900000\n",
       "75%    150.250000  218.825000   36.525000   45.100000   17.400000\n",
       "max    200.000000  296.400000   49.600000  114.000000   27.000000"
      ]
     },
     "execution_count": 11,
     "metadata": {},
     "output_type": "execute_result"
    }
   ],
   "source": [
    "df.describe()"
   ]
  },
  {
   "cell_type": "code",
   "execution_count": 12,
   "id": "14ea8733-f689-4871-ae2b-d563590aa3f6",
   "metadata": {
    "tags": []
   },
   "outputs": [
    {
     "data": {
      "text/plain": [
       "Unnamed: 0    0\n",
       "TV            0\n",
       "Radio         0\n",
       "Newspaper     0\n",
       "Sales         0\n",
       "dtype: int64"
      ]
     },
     "execution_count": 12,
     "metadata": {},
     "output_type": "execute_result"
    }
   ],
   "source": [
    "df.isnull().sum()"
   ]
  },
  {
   "cell_type": "code",
   "execution_count": 16,
   "id": "416e7f8a-4b89-4d0d-bdec-0d5ceff41495",
   "metadata": {
    "tags": []
   },
   "outputs": [],
   "source": [
    "import matplotlib.pyplot as plt\n",
    "import seaborn as sns"
   ]
  },
  {
   "cell_type": "code",
   "execution_count": 17,
   "id": "c7cdde3d-0fb2-40ea-b73a-243e6b1fef80",
   "metadata": {
    "tags": []
   },
   "outputs": [
    {
     "data": {
      "image/png": "[encoded data removed]",
      "text/plain": [
       "<Figure size 500x500 with 3 Axes>"
      ]
     },
     "metadata": {},
     "output_type": "display_data"
    }
   ],
   "source": [
    "fig, axs = plt.subplots(3, figsize = (5,5))\n",
    "plt1 = sns.boxplot(df['TV'], ax = axs[0])\n",
    "plt2 = sns.boxplot(df['Newspaper'], ax = axs[1])\n",
    "plt3 = sns.boxplot(df['Radio'], ax = axs[2])\n",
    "plt.tight_layout()"
   ]
  },
  {
   "cell_type": "code",
   "execution_count": 18,
   "id": "db371d04-4d2a-47e6-92a3-9e52820feb37",
   "metadata": {
    "tags": []
   },
   "outputs": [
    {
     "data": {
      "text/plain": [
       "<AxesSubplot: xlabel='Newspaper', ylabel='Density'>"
      ]
     },
     "execution_count": 18,
     "metadata": {},
     "output_type": "execute_result"
    },
    {
     "data": {
      "image/png": "[encoded data removed]",
      "text/plain": [
       "<Figure size 640x480 with 1 Axes>"
      ]
     },
     "metadata": {},
     "output_type": "display_data"
    }
   ],
   "source": [
    "sns.distplot(df['Newspaper'])"
   ]
  },
  {
   "cell_type": "code",
   "execution_count": 19,
   "id": "8dfc2fd4-dd25-4286-8b8a-aa613fce7261",
   "metadata": {
    "tags": []
   },
   "outputs": [],
   "source": [
    "iqr = df.Newspaper.quantile(0.75) - df.Newspaper.quantile(0.25)"
   ]
  },
  {
   "cell_type": "code",
   "execution_count": 20,
   "id": "5fe40847-5515-4b6e-b370-2ebbab34da73",
   "metadata": {
    "tags": []
   },
   "outputs": [
    {
     "name": "stdout",
     "output_type": "stream",
     "text": [
      "-35.775000000000006\n",
      "93.625\n"
     ]
    }
   ],
   "source": [
    "lower_bridge = df[\"Newspaper\"].quantile(0.25) - (iqr*1.5)\n",
    "upper_bridge = df[\"Newspaper\"].quantile(0.75) + (iqr*1.5)\n",
    "print(lower_bridge)\n",
    "print(upper_bridge)"
   ]
  },
  {
   "cell_type": "code",
   "execution_count": 21,
   "id": "d08e45a1-9f97-42ae-b875-867e404abf5c",
   "metadata": {
    "tags": []
   },
   "outputs": [],
   "source": [
    "data = df.copy()"
   ]
  },
  {
   "cell_type": "code",
   "execution_count": 22,
   "id": "5740d1bb-1c3d-4db5-8168-df6163fe8ed5",
   "metadata": {
    "tags": []
   },
   "outputs": [],
   "source": [
    "data.loc[data['Newspaper']>=93, 'Newspaper']=93"
   ]
  },
  {
   "cell_type": "code",
   "execution_count": 23,
   "id": "3121eace-9fa2-40c5-b7d0-83fc76a12635",
   "metadata": {
    "tags": []
   },
   "outputs": [
    {
     "data": {
      "text/plain": [
       "<AxesSubplot: >"
      ]
     },
     "execution_count": 23,
     "metadata": {},
     "output_type": "execute_result"
    },
    {
     "data": {
      "image/png": "[encoded data removed]",
      "text/plain": [
       "<Figure size 640x480 with 1 Axes>"
      ]
     },
     "metadata": {},
     "output_type": "display_data"
    }
   ],
   "source": [
    "sns.boxplot(data['Newspaper'])"
   ]
  },
  {
   "cell_type": "code",
   "execution_count": 24,
   "id": "fe41ab5b-332d-4bc6-ace7-0bff963928fa",
   "metadata": {
    "tags": []
   },
   "outputs": [
    {
     "data": {
      "image/png": "[encoded data removed]",
      "text/plain": [
       "<Figure size 640x480 with 1 Axes>"
      ]
     },
     "metadata": {},
     "output_type": "display_data"
    }
   ],
   "source": [
    "sns.boxplot(data['Sales']);"
   ]
  },
  {
   "cell_type": "code",
   "execution_count": 25,
   "id": "43496c5a-024b-43f3-af12-a25dc202b63f",
   "metadata": {
    "tags": []
   },
   "outputs": [
    {
     "data": {
      "image/png": "[encoded data removed]",
      "text/plain": [
       "<Figure size 1200x400 with 3 Axes>"
      ]
     },
     "metadata": {},
     "output_type": "display_data"
    }
   ],
   "source": [
    "sns.pairplot(data, x_vars=['TV', 'Newspaper', 'Radio'],\n",
    "            y_vars='Sales', height=4, aspect=1, kind='scatter')\n",
    "plt.show()"
   ]
  },
  {
   "cell_type": "code",
   "execution_count": 26,
   "id": "3b90f332-b1e3-456f-8121-aa09eba3dc19",
   "metadata": {
    "tags": []
   },
   "outputs": [
    {
     "data": {
      "image/png": "[encoded data removed]",
      "text/plain": [
       "<Figure size 640x480 with 2 Axes>"
      ]
     },
     "metadata": {},
     "output_type": "display_data"
    }
   ],
   "source": [
    "sns.heatmap(data.corr(), cmap=\"YlGnBu\", annot = True)\n",
    "plt.show()"
   ]
  },
  {
   "cell_type": "code",
   "execution_count": 27,
   "id": "52ce9775-7a70-482e-ac96-5341a30a6494",
   "metadata": {
    "tags": []
   },
   "outputs": [],
   "source": [
    "important_features = list(df.corr()['Sales'][(df.corr()['Sales']>+0.5)|(df.corr()['Sales']<-0.5)].index)"
   ]
  },
  {
   "cell_type": "code",
   "execution_count": 28,
   "id": "1d81d846-ff2f-433b-a202-e060f36a6fa7",
   "metadata": {
    "tags": []
   },
   "outputs": [
    {
     "name": "stdout",
     "output_type": "stream",
     "text": [
      "['TV', 'Radio', 'Sales']\n"
     ]
    }
   ],
   "source": [
    "print(important_features)"
   ]
  },
  {
   "cell_type": "code",
   "execution_count": 29,
   "id": "6cacc9a7-0069-40fa-b4a5-771e8653d06a",
   "metadata": {
    "tags": []
   },
   "outputs": [],
   "source": [
    "X = data['TV']\n",
    "y = data['Sales']"
   ]
  },
  {
   "cell_type": "code",
   "execution_count": 30,
   "id": "0feeabd9-c71a-460e-b3d4-e51038cc6822",
   "metadata": {
    "tags": []
   },
   "outputs": [],
   "source": [
    "X = X.values.reshape(-1,1)"
   ]
  },
  {
   "cell_type": "code",
   "execution_count": 31,
   "id": "76818a7c-e380-4784-94b2-3d607ecd7afe",
   "metadata": {
    "tags": []
   },
   "outputs": [
    {
     "data": {
      "text/plain": [
       "array([[230.1],\n",
       "       [ 44.5],\n",
       "       [ 17.2],\n",
       "       [151.5],\n",
       "       [180.8],\n",
       "       [  8.7],\n",
       "       [ 57.5],\n",
       "       [120.2],\n",
       "       [  8.6],\n",
       "       [199.8],\n",
       "       [ 66.1],\n",
       "       [214.7],\n",
       "       [ 23.8],\n",
       "       [ 97.5],\n",
       "       [204.1],\n",
       "       [195.4],\n",
       "       [ 67.8],\n",
       "       [281.4],\n",
       "       [ 69.2],\n",
       "       [147.3],\n",
       "       [218.4],\n",
       "       [237.4],\n",
       "       [ 13.2],\n",
       "       [228.3],\n",
       "       [ 62.3],\n",
       "       [262.9],\n",
       "       [142.9],\n",
       "       [240.1],\n",
       "       [248.8],\n",
       "       [ 70.6],\n",
       "       [292.9],\n",
       "       [112.9],\n",
       "       [ 97.2],\n",
       "       [265.6],\n",
       "       [ 95.7],\n",
       "       [290.7],\n",
       "       [266.9],\n",
       "       [ 74.7],\n",
       "       [ 43.1],\n",
       "       [228. ],\n",
       "       [202.5],\n",
       "       [177. ],\n",
       "       [293.6],\n",
       "       [206.9],\n",
       "       [ 25.1],\n",
       "       [175.1],\n",
       "       [ 89.7],\n",
       "       [239.9],\n",
       "       [227.2],\n",
       "       [ 66.9],\n",
       "       [199.8],\n",
       "       [100.4],\n",
       "       [216.4],\n",
       "       [182.6],\n",
       "       [262.7],\n",
       "       [198.9],\n",
       "       [  7.3],\n",
       "       [136.2],\n",
       "       [210.8],\n",
       "       [210.7],\n",
       "       [ 53.5],\n",
       "       [261.3],\n",
       "       [239.3],\n",
       "       [102.7],\n",
       "       [131.1],\n",
       "       [ 69. ],\n",
       "       [ 31.5],\n",
       "       [139.3],\n",
       "       [237.4],\n",
       "       [216.8],\n",
       "       [199.1],\n",
       "       [109.8],\n",
       "       [ 26.8],\n",
       "       [129.4],\n",
       "       [213.4],\n",
       "       [ 16.9],\n",
       "       [ 27.5],\n",
       "       [120.5],\n",
       "       [  5.4],\n",
       "       [116. ],\n",
       "       [ 76.4],\n",
       "       [239.8],\n",
       "       [ 75.3],\n",
       "       [ 68.4],\n",
       "       [213.5],\n",
       "       [193.2],\n",
       "       [ 76.3],\n",
       "       [110.7],\n",
       "       [ 88.3],\n",
       "       [109.8],\n",
       "       [134.3],\n",
       "       [ 28.6],\n",
       "       [217.7],\n",
       "       [250.9],\n",
       "       [107.4],\n",
       "       [163.3],\n",
       "       [197.6],\n",
       "       [184.9],\n",
       "       [289.7],\n",
       "       [135.2],\n",
       "       [222.4],\n",
       "       [296.4],\n",
       "       [280.2],\n",
       "       [187.9],\n",
       "       [238.2],\n",
       "       [137.9],\n",
       "       [ 25. ],\n",
       "       [ 90.4],\n",
       "       [ 13.1],\n",
       "       [255.4],\n",
       "       [225.8],\n",
       "       [241.7],\n",
       "       [175.7],\n",
       "       [209.6],\n",
       "       [ 78.2],\n",
       "       [ 75.1],\n",
       "       [139.2],\n",
       "       [ 76.4],\n",
       "       [125.7],\n",
       "       [ 19.4],\n",
       "       [141.3],\n",
       "       [ 18.8],\n",
       "       [224. ],\n",
       "       [123.1],\n",
       "       [229.5],\n",
       "       [ 87.2],\n",
       "       [  7.8],\n",
       "       [ 80.2],\n",
       "       [220.3],\n",
       "       [ 59.6],\n",
       "       [  0.7],\n",
       "       [265.2],\n",
       "       [  8.4],\n",
       "       [219.8],\n",
       "       [ 36.9],\n",
       "       [ 48.3],\n",
       "       [ 25.6],\n",
       "       [273.7],\n",
       "       [ 43. ],\n",
       "       [184.9],\n",
       "       [ 73.4],\n",
       "       [193.7],\n",
       "       [220.5],\n",
       "       [104.6],\n",
       "       [ 96.2],\n",
       "       [140.3],\n",
       "       [240.1],\n",
       "       [243.2],\n",
       "       [ 38. ],\n",
       "       [ 44.7],\n",
       "       [280.7],\n",
       "       [121. ],\n",
       "       [197.6],\n",
       "       [171.3],\n",
       "       [187.8],\n",
       "       [  4.1],\n",
       "       [ 93.9],\n",
       "       [149.8],\n",
       "       [ 11.7],\n",
       "       [131.7],\n",
       "       [172.5],\n",
       "       [ 85.7],\n",
       "       [188.4],\n",
       "       [163.5],\n",
       "       [117.2],\n",
       "       [234.5],\n",
       "       [ 17.9],\n",
       "       [206.8],\n",
       "       [215.4],\n",
       "       [284.3],\n",
       "       [ 50. ],\n",
       "       [164.5],\n",
       "       [ 19.6],\n",
       "       [168.4],\n",
       "       [222.4],\n",
       "       [276.9],\n",
       "       [248.4],\n",
       "       [170.2],\n",
       "       [276.7],\n",
       "       [165.6],\n",
       "       [156.6],\n",
       "       [218.5],\n",
       "       [ 56.2],\n",
       "       [287.6],\n",
       "       [253.8],\n",
       "       [205. ],\n",
       "       [139.5],\n",
       "       [191.1],\n",
       "       [286. ],\n",
       "       [ 18.7],\n",
       "       [ 39.5],\n",
       "       [ 75.5],\n",
       "       [ 17.2],\n",
       "       [166.8],\n",
       "       [149.7],\n",
       "       [ 38.2],\n",
       "       [ 94.2],\n",
       "       [177. ],\n",
       "       [283.6],\n",
       "       [232.1]])"
      ]
     },
     "execution_count": 31,
     "metadata": {},
     "output_type": "execute_result"
    }
   ],
   "source": [
    "X"
   ]
  },
  {
   "cell_type": "code",
   "execution_count": 32,
   "id": "2ef357ad-a7a4-49c6-8808-d87375730319",
   "metadata": {
    "tags": []
   },
   "outputs": [
    {
     "data": {
      "text/plain": [
       "0      22.1\n",
       "1      10.4\n",
       "2       9.3\n",
       "3      18.5\n",
       "4      12.9\n",
       "       ... \n",
       "195     7.6\n",
       "196     9.7\n",
       "197    12.8\n",
       "198    25.5\n",
       "199    13.4\n",
       "Name: Sales, Length: 200, dtype: float64"
      ]
     },
     "execution_count": 32,
     "metadata": {},
     "output_type": "execute_result"
    }
   ],
   "source": [
    "y"
   ]
  },
  {
   "cell_type": "code",
   "execution_count": 33,
   "id": "0b83c271-8f12-44fc-a801-cb58a0de8e2f",
   "metadata": {
    "tags": []
   },
   "outputs": [
    {
     "name": "stdout",
     "output_type": "stream",
     "text": [
      "(200, 1) (200,)\n"
     ]
    }
   ],
   "source": [
    "print(X.shape,y.shape)"
   ]
  },
  {
   "cell_type": "code",
   "execution_count": 40,
   "id": "3aea6c64-85e6-40c5-9a43-597c4436e7fd",
   "metadata": {
    "tags": []
   },
   "outputs": [],
   "source": [
    "from sklearn.model_selection import train_test_split\n",
    "X_train,X_test,y_train,y_test=train_test_split(X,y, test_size=0.33)"
   ]
  },
  {
   "cell_type": "code",
   "execution_count": 41,
   "id": "3badf20c-86ca-499e-aced-4288ebaadad1",
   "metadata": {
    "tags": []
   },
   "outputs": [
    {
     "name": "stdout",
     "output_type": "stream",
     "text": [
      "(134, 1) (134,)\n"
     ]
    }
   ],
   "source": [
    "print(X_train.shape,y_train.shape)"
   ]
  },
  {
   "cell_type": "code",
   "execution_count": 42,
   "id": "5dc18307-c44d-4161-b3b8-a7927b3dd67e",
   "metadata": {
    "tags": []
   },
   "outputs": [],
   "source": [
    "from sklearn.metrics import  mean_squared_error , r2_score\n",
    "from sklearn.model_selection import cross_val_score,GridSearchCV\n",
    "from sklearn.neighbors import KNeighborsRegressor\n",
    "from sklearn.svm import SVR\n",
    "from sklearn.tree import DecisionTreeRegressor\n",
    "from sklearn.ensemble import RandomForestRegressor"
   ]
  },
  {
   "cell_type": "code",
   "execution_count": 43,
   "id": "dcb94d51-6c9c-49c2-996e-dff98ef4f732",
   "metadata": {
    "tags": []
   },
   "outputs": [
    {
     "data": {
      "text/html": [
       "<style>#sk-container-id-1 {color: black;background-color: white;}#sk-container-id-1 pre{padding: 0;}#sk-container-id-1 div.sk-toggleable {background-color: white;}#sk-container-id-1 label.sk-toggleable__label {cursor: pointer;display: block;width: 100%;margin-bottom: 0;padding: 0.3em;box-sizing: border-box;text-align: center;}#sk-container-id-1 label.sk-toggleable__label-arrow:before {content: \"▸\";float: left;margin-right: 0.25em;color: #696969;}#sk-container-id-1 label.sk-toggleable__label-arrow:hover:before {color: black;}#sk-container-id-1 div.sk-estimator:hover label.sk-toggleable__label-arrow:before {color: black;}#sk-container-id-1 div.sk-toggleable__content {max-height: 0;max-width: 0;overflow: hidden;text-align: left;background-color: #f0f8ff;}#sk-container-id-1 div.sk-toggleable__content pre {margin: 0.2em;color: black;border-radius: 0.25em;background-color: #f0f8ff;}#sk-container-id-1 input.sk-toggleable__control:checked~div.sk-toggleable__content {max-height: 200px;max-width: 100%;overflow: auto;}#sk-container-id-1 input.sk-toggleable__control:checked~label.sk-toggleable__label-arrow:before {content: \"▾\";}#sk-container-id-1 div.sk-estimator input.sk-toggleable__control:checked~label.sk-toggleable__label {background-color: #d4ebff;}#sk-container-id-1 div.sk-label input.sk-toggleable__control:checked~label.sk-toggleable__label {background-color: #d4ebff;}#sk-container-id-1 input.sk-hidden--visually {border: 0;clip: rect(1px 1px 1px 1px);clip: rect(1px, 1px, 1px, 1px);height: 1px;margin: -1px;overflow: hidden;padding: 0;position: absolute;width: 1px;}#sk-container-id-1 div.sk-estimator {font-family: monospace;background-color: #f0f8ff;border: 1px dotted black;border-radius: 0.25em;box-sizing: border-box;margin-bottom: 0.5em;}#sk-container-id-1 div.sk-estimator:hover {background-color: #d4ebff;}#sk-container-id-1 div.sk-parallel-item::after {content: \"\";width: 100%;border-bottom: 1px solid gray;flex-grow: 1;}#sk-container-id-1 div.sk-label:hover label.sk-toggleable__label {background-color: #d4ebff;}#sk-container-id-1 div.sk-serial::before {content: \"\";position: absolute;border-left: 1px solid gray;box-sizing: border-box;top: 0;bottom: 0;left: 50%;z-index: 0;}#sk-container-id-1 div.sk-serial {display: flex;flex-direction: column;align-items: center;background-color: white;padding-right: 0.2em;padding-left: 0.2em;position: relative;}#sk-container-id-1 div.sk-item {position: relative;z-index: 1;}#sk-container-id-1 div.sk-parallel {display: flex;align-items: stretch;justify-content: center;background-color: white;position: relative;}#sk-container-id-1 div.sk-item::before, #sk-container-id-1 div.sk-parallel-item::before {content: \"\";position: absolute;border-left: 1px solid gray;box-sizing: border-box;top: 0;bottom: 0;left: 50%;z-index: -1;}#sk-container-id-1 div.sk-parallel-item {display: flex;flex-direction: column;z-index: 1;position: relative;background-color: white;}#sk-container-id-1 div.sk-parallel-item:first-child::after {align-self: flex-end;width: 50%;}#sk-container-id-1 div.sk-parallel-item:last-child::after {align-self: flex-start;width: 50%;}#sk-container-id-1 div.sk-parallel-item:only-child::after {width: 0;}#sk-container-id-1 div.sk-dashed-wrapped {border: 1px dashed gray;margin: 0 0.4em 0.5em 0.4em;box-sizing: border-box;padding-bottom: 0.4em;background-color: white;}#sk-container-id-1 div.sk-label label {font-family: monospace;font-weight: bold;display: inline-block;line-height: 1.2em;}#sk-container-id-1 div.sk-label-container {text-align: center;}#sk-container-id-1 div.sk-container {/* jupyter's `normalize.less` sets `[hidden] { display: none; }` but bootstrap.min.css set `[hidden] { display: none !important; }` so we also need the `!important` here to be able to override the default hidden behavior on the sphinx rendered scikit-learn.org. See: https://github.com/scikit-learn/scikit-learn/issues/21755 */display: inline-block !important;position: relative;}#sk-container-id-1 div.sk-text-repr-fallback {display: none;}</style><div id=\"sk-container-id-1\" class=\"sk-top-container\"><div class=\"sk-text-repr-fallback\"><pre>KNeighborsRegressor()</pre><b>In a Jupyter environment, please rerun this cell to show the HTML representation or trust the notebook. <br />On GitHub, the HTML representation is unable to render, please try loading this page with nbviewer.org.</b></div><div class=\"sk-container\" hidden><div class=\"sk-item\"><div class=\"sk-estimator sk-toggleable\"><input class=\"sk-toggleable__control sk-hidden--visually\" id=\"sk-estimator-id-1\" type=\"checkbox\" checked><label for=\"sk-estimator-id-1\" class=\"sk-toggleable__label sk-toggleable__label-arrow\">KNeighborsRegressor</label><div class=\"sk-toggleable__content\"><pre>KNeighborsRegressor()</pre></div></div></div></div></div>"
      ],
      "text/plain": [
       "KNeighborsRegressor()"
      ]
     },
     "execution_count": 43,
     "metadata": {},
     "output_type": "execute_result"
    }
   ],
   "source": [
    "knn = KNeighborsRegressor().fit(X_train, y_train)\n",
    "knn"
   ]
  },
  {
   "cell_type": "code",
   "execution_count": 44,
   "id": "5318e33e-c001-4e1e-89ed-7a1b3f17fba7",
   "metadata": {
    "tags": []
   },
   "outputs": [],
   "source": [
    "knn_train_pred = knn.predict(X_train)"
   ]
  },
  {
   "cell_type": "code",
   "execution_count": 45,
   "id": "e99ca84a-d676-424d-8ff1-a5883da03d62",
   "metadata": {
    "tags": []
   },
   "outputs": [],
   "source": [
    "knn_test_pred = knn.predict(X_test)"
   ]
  },
  {
   "cell_type": "code",
   "execution_count": 46,
   "id": "d06e9e4d-1e21-4491-9826-e55447e6eb00",
   "metadata": {
    "tags": []
   },
   "outputs": [
    {
     "name": "stdout",
     "output_type": "stream",
     "text": [
      "[16.32 15.44  9.94 17.34 13.76 15.28 16.04 13.54 17.34 15.28 16.7  17.96\n",
      " 14.92 17.46 11.44 16.28  7.7  19.9  21.44 13.92 20.02 16.18  4.58 10.22\n",
      " 19.22  9.72 14.16 13.72 16.1  19.98 17.46 17.96 12.94 10.44 10.22 15.92\n",
      " 10.22 10.5  16.7  11.44 17.44 19.98 12.18 10.22 10.5  19.46 20.62  9.7\n",
      " 18.78  4.58  4.58 13.54 19.46 19.46 14.58 12.96  7.76 16.22 14.58 10.5\n",
      " 17.24 20.88  7.76 17.96 11.42 13.72 16.32  9.72 10.5   7.76 16.28 10.9\n",
      " 11.18 15.24 18.3  13.76  9.94  9.7  15.92 16.34 13.96  4.58 20.02 13.12\n",
      " 18.3  17.46 16.18 19.98 17.46 15.28  7.7  15.34  7.7  17.8  18.86 13.72\n",
      " 17.64 15.24 16.28  4.58 15.28  9.72 16.32 18.3   7.48 15.8  15.28 21.44\n",
      " 20.82 16.64 18.26 12.18 19.52  9.94 13.76 19.98 10.5   9.94 10.44 19.9\n",
      "  7.48 11.42  7.7   9.12 18.76 14.16 10.44 10.44 16.28  9.44 19.98 16.32\n",
      "  9.82 20.02] [15.28  7.76  4.58 10.18  7.48 14.58  8.6  15.94 12.94  9.94 16.04  7.76\n",
      " 17.24 10.44  6.12 14.92 13.72 13.54  4.58 12.98 11.44 21.44 10.5  10.44\n",
      " 11.48 10.32 19.98 12.94 17.16 20.88 19.22 20.62 18.76 12.18 13.54 17.96\n",
      " 17.44 14.48  9.82 17.46 14.16 16.7  15.24  6.88 15.22 20.02  7.48  7.34\n",
      "  4.58 14.58 15.    8.94  7.76 12.04 10.22 13.12 15.88 14.58 11.44 15.26\n",
      " 17.34 11.58 13.76 18.26 13.82 17.8 ]\n"
     ]
    }
   ],
   "source": [
    "print(knn_train_pred, knn_test_pred)"
   ]
  },
  {
   "cell_type": "code",
   "execution_count": 47,
   "id": "a4b6153a-15bb-4860-aa8b-5f472115d812",
   "metadata": {
    "tags": []
   },
   "outputs": [],
   "source": [
    "\n",
    "Results = pd.DataFrame(columns=[\"Model\",\"Train R2\",\"Test R2\",\"Test RMSE\",\"Variance\"])"
   ]
  },
  {
   "cell_type": "code",
   "execution_count": 48,
   "id": "076a0e2a-8f25-4a2c-ab72-5b926961d892",
   "metadata": {
    "tags": []
   },
   "outputs": [
    {
     "name": "stdout",
     "output_type": "stream",
     "text": [
      "R2: 0.5323242889267634\n",
      "RMSE: 3.59251410237421\n"
     ]
    }
   ],
   "source": [
    "r2 = r2_score(y_test,knn_test_pred)\n",
    "r2_train = r2_score(y_train,knn_train_pred)\n",
    "rmse = np.sqrt(mean_squared_error(y_test,knn_test_pred))\n",
    "variance = r2_train - r2\n",
    "Results = Results.append({\"Model\":\"K-Nearest Neighbors\",\"Train R2\":r2_train,\"Test R2\":r2,\"Test RMSE\":rmse,\"Variance\":variance},ignore_index=True)\n",
    "print(\"R2:\",r2)\n",
    "print(\"RMSE:\",rmse)"
   ]
  },
  {
   "cell_type": "code",
   "execution_count": 49,
   "id": "c71206cb-6c76-41ee-b875-b957e2cac1bb",
   "metadata": {
    "tags": []
   },
   "outputs": [
    {
     "data": {
      "text/html": [
       "<div>\n",
       "<style scoped>\n",
       "    .dataframe tbody tr th:only-of-type {\n",
       "        vertical-align: middle;\n",
       "    }\n",
       "\n",
       "    .dataframe tbody tr th {\n",
       "        vertical-align: top;\n",
       "    }\n",
       "\n",
       "    .dataframe thead th {\n",
       "        text-align: right;\n",
       "    }\n",
       "</style>\n",
       "<table border=\"1\" class=\"dataframe\">\n",
       "  <thead>\n",
       "    <tr style=\"text-align: right;\">\n",
       "      <th></th>\n",
       "      <th>Model</th>\n",
       "      <th>Train R2</th>\n",
       "      <th>Test R2</th>\n",
       "      <th>Test RMSE</th>\n",
       "      <th>Variance</th>\n",
       "    </tr>\n",
       "  </thead>\n",
       "  <tbody>\n",
       "    <tr>\n",
       "      <th>0</th>\n",
       "      <td>K-Nearest Neighbors</td>\n",
       "      <td>0.66661</td>\n",
       "      <td>0.532324</td>\n",
       "      <td>3.592514</td>\n",
       "      <td>0.134286</td>\n",
       "    </tr>\n",
       "  </tbody>\n",
       "</table>\n",
       "</div>"
      ],
      "text/plain": [
       "                 Model  Train R2   Test R2  Test RMSE  Variance\n",
       "0  K-Nearest Neighbors   0.66661  0.532324   3.592514  0.134286"
      ]
     },
     "execution_count": 49,
     "metadata": {},
     "output_type": "execute_result"
    }
   ],
   "source": [
    "Results.head()"
   ]
  },
  {
   "cell_type": "code",
   "execution_count": 50,
   "id": "c936ae7f-f02f-4c13-aa7f-6709768f9444",
   "metadata": {
    "tags": []
   },
   "outputs": [
    {
     "data": {
      "text/html": [
       "<style>#sk-container-id-2 {color: black;background-color: white;}#sk-container-id-2 pre{padding: 0;}#sk-container-id-2 div.sk-toggleable {background-color: white;}#sk-container-id-2 label.sk-toggleable__label {cursor: pointer;display: block;width: 100%;margin-bottom: 0;padding: 0.3em;box-sizing: border-box;text-align: center;}#sk-container-id-2 label.sk-toggleable__label-arrow:before {content: \"▸\";float: left;margin-right: 0.25em;color: #696969;}#sk-container-id-2 label.sk-toggleable__label-arrow:hover:before {color: black;}#sk-container-id-2 div.sk-estimator:hover label.sk-toggleable__label-arrow:before {color: black;}#sk-container-id-2 div.sk-toggleable__content {max-height: 0;max-width: 0;overflow: hidden;text-align: left;background-color: #f0f8ff;}#sk-container-id-2 div.sk-toggleable__content pre {margin: 0.2em;color: black;border-radius: 0.25em;background-color: #f0f8ff;}#sk-container-id-2 input.sk-toggleable__control:checked~div.sk-toggleable__content {max-height: 200px;max-width: 100%;overflow: auto;}#sk-container-id-2 input.sk-toggleable__control:checked~label.sk-toggleable__label-arrow:before {content: \"▾\";}#sk-container-id-2 div.sk-estimator input.sk-toggleable__control:checked~label.sk-toggleable__label {background-color: #d4ebff;}#sk-container-id-2 div.sk-label input.sk-toggleable__control:checked~label.sk-toggleable__label {background-color: #d4ebff;}#sk-container-id-2 input.sk-hidden--visually {border: 0;clip: rect(1px 1px 1px 1px);clip: rect(1px, 1px, 1px, 1px);height: 1px;margin: -1px;overflow: hidden;padding: 0;position: absolute;width: 1px;}#sk-container-id-2 div.sk-estimator {font-family: monospace;background-color: #f0f8ff;border: 1px dotted black;border-radius: 0.25em;box-sizing: border-box;margin-bottom: 0.5em;}#sk-container-id-2 div.sk-estimator:hover {background-color: #d4ebff;}#sk-container-id-2 div.sk-parallel-item::after {content: \"\";width: 100%;border-bottom: 1px solid gray;flex-grow: 1;}#sk-container-id-2 div.sk-label:hover label.sk-toggleable__label {background-color: #d4ebff;}#sk-container-id-2 div.sk-serial::before {content: \"\";position: absolute;border-left: 1px solid gray;box-sizing: border-box;top: 0;bottom: 0;left: 50%;z-index: 0;}#sk-container-id-2 div.sk-serial {display: flex;flex-direction: column;align-items: center;background-color: white;padding-right: 0.2em;padding-left: 0.2em;position: relative;}#sk-container-id-2 div.sk-item {position: relative;z-index: 1;}#sk-container-id-2 div.sk-parallel {display: flex;align-items: stretch;justify-content: center;background-color: white;position: relative;}#sk-container-id-2 div.sk-item::before, #sk-container-id-2 div.sk-parallel-item::before {content: \"\";position: absolute;border-left: 1px solid gray;box-sizing: border-box;top: 0;bottom: 0;left: 50%;z-index: -1;}#sk-container-id-2 div.sk-parallel-item {display: flex;flex-direction: column;z-index: 1;position: relative;background-color: white;}#sk-container-id-2 div.sk-parallel-item:first-child::after {align-self: flex-end;width: 50%;}#sk-container-id-2 div.sk-parallel-item:last-child::after {align-self: flex-start;width: 50%;}#sk-container-id-2 div.sk-parallel-item:only-child::after {width: 0;}#sk-container-id-2 div.sk-dashed-wrapped {border: 1px dashed gray;margin: 0 0.4em 0.5em 0.4em;box-sizing: border-box;padding-bottom: 0.4em;background-color: white;}#sk-container-id-2 div.sk-label label {font-family: monospace;font-weight: bold;display: inline-block;line-height: 1.2em;}#sk-container-id-2 div.sk-label-container {text-align: center;}#sk-container-id-2 div.sk-container {/* jupyter's `normalize.less` sets `[hidden] { display: none; }` but bootstrap.min.css set `[hidden] { display: none !important; }` so we also need the `!important` here to be able to override the default hidden behavior on the sphinx rendered scikit-learn.org. See: https://github.com/scikit-learn/scikit-learn/issues/21755 */display: inline-block !important;position: relative;}#sk-container-id-2 div.sk-text-repr-fallback {display: none;}</style><div id=\"sk-container-id-2\" class=\"sk-top-container\"><div class=\"sk-text-repr-fallback\"><pre>SVR()</pre><b>In a Jupyter environment, please rerun this cell to show the HTML representation or trust the notebook. <br />On GitHub, the HTML representation is unable to render, please try loading this page with nbviewer.org.</b></div><div class=\"sk-container\" hidden><div class=\"sk-item\"><div class=\"sk-estimator sk-toggleable\"><input class=\"sk-toggleable__control sk-hidden--visually\" id=\"sk-estimator-id-2\" type=\"checkbox\" checked><label for=\"sk-estimator-id-2\" class=\"sk-toggleable__label sk-toggleable__label-arrow\">SVR</label><div class=\"sk-toggleable__content\"><pre>SVR()</pre></div></div></div></div></div>"
      ],
      "text/plain": [
       "SVR()"
      ]
     },
     "execution_count": 50,
     "metadata": {},
     "output_type": "execute_result"
    }
   ],
   "source": [
    "svr = SVR().fit(X_train,y_train)\n",
    "svr\n"
   ]
  },
  {
   "cell_type": "code",
   "execution_count": 51,
   "id": "fe9cd668-ee7f-4fae-bff6-a9884fa91290",
   "metadata": {
    "tags": []
   },
   "outputs": [],
   "source": [
    "svr_train_pred = svr.predict(X_train)\n",
    "svr_test_pred = svr.predict(X_test)"
   ]
  },
  {
   "cell_type": "code",
   "execution_count": 52,
   "id": "ab0a873a-b4a0-4a45-acc0-b8c5eafd56ee",
   "metadata": {
    "tags": []
   },
   "outputs": [
    {
     "name": "stdout",
     "output_type": "stream",
     "text": [
      "[14.63497735 14.19039407  9.12270308 16.65649179 12.49504569 14.91685312\n",
      " 16.5514653  13.73669372 16.70184694 14.69437801 17.44006415 17.48083433\n",
      " 14.77355024 17.24487982 10.60179245 15.57861633  8.5645894  17.50162109\n",
      " 17.56067149 14.9760322  16.71078409 17.09219123  8.38500806 11.63294515\n",
      " 16.79715141  9.81113085 13.16224499 16.25764305 17.46949446 17.54385923\n",
      " 17.25232692 17.47805823 12.06870167 10.21426514 11.49936748 16.16205522\n",
      " 11.45774864 11.21720673 17.44006415 10.58527856 15.98812117 17.48337615\n",
      " 10.63895002 11.51186372 11.13036081 17.20705412 17.30006655  9.30429275\n",
      " 17.01290388  8.42679293  8.41496542 13.85294679 17.21997524 17.18862721\n",
      " 13.28856867 12.34996637  8.72910471 17.38848604 13.40179402 11.08490146\n",
      " 17.02854519 17.57465908  8.7936593  17.48083433 10.71326709 16.22744083\n",
      " 14.53103128  9.49991685 11.18824788  8.69606018 15.72048    10.39957467\n",
      " 10.51510225 15.19696512 16.94522784 12.51717117  9.08515426  9.30062496\n",
      " 16.16205522 15.86934214 12.72707146  8.40113847 16.8348767  12.16327155\n",
      " 16.9681376  17.29537947 17.09219123 17.5316992  17.22464699 14.86253725\n",
      "  8.55113339 17.18794815  8.55113339 16.91526771 17.05815111 16.25764305\n",
      " 16.0646024  15.19696512 15.57861633  8.42484947 13.52540728  9.70329883\n",
      " 14.58052502 16.97138203  8.59921945 15.38177888 13.00021294 17.57091094\n",
      " 17.36875657 15.7439176  17.00915485 10.63482134 17.10821607  9.12959663\n",
      " 12.61052325 17.50505636  9.35604266  9.17488403 10.34185951 17.51879342\n",
      "  8.59500409 10.79584007  8.54551269  9.86346848 16.86755956 13.12039194\n",
      " 10.28419478 10.33361824 15.71578502  9.56568154 17.50021272 14.52113426\n",
      " 11.37465768 16.90934589] [12.97263468  8.72651371  8.39407975 10.05849456  8.58054519 13.34979178\n",
      "  8.82471431 17.03474988 12.03018558  9.94848773 16.54749925  8.74218043\n",
      " 17.12821322 10.24715882  8.46257348 16.47522164 16.21877467 13.85780474\n",
      "  8.42778145 16.37216793 10.59353545 17.56274445  9.36349466 10.30890105\n",
      " 11.72939746 11.022936   17.52979953 12.03018558 17.33987231 17.57298108\n",
      " 16.80073314 17.30462369 16.84321326 10.63895002 13.94055132 17.47665544\n",
      " 15.96544329 12.89481477 11.36220908 17.28134144 13.20889878 17.45288193\n",
      " 15.13333231  8.48214344 17.13840178 16.81059031  8.5825825   8.48362071\n",
      "  8.41928879 13.35451182 15.10390536  8.91071719  8.77436897 11.92793172\n",
      " 11.43695847 12.29760689 15.46856983 13.36395637 10.5687652  13.44922306\n",
      " 16.69809956 11.80940516 12.48178886 16.94222001 16.43846945 16.90177253]\n"
     ]
    }
   ],
   "source": [
    "print(svr_train_pred,svr_test_pred)"
   ]
  },
  {
   "cell_type": "code",
   "execution_count": 53,
   "id": "5d5a3aae-e9d8-40d1-8205-eeb7b51f73ad",
   "metadata": {
    "tags": []
   },
   "outputs": [
    {
     "name": "stdout",
     "output_type": "stream",
     "text": [
      "R2: 0.5798998468167393\n",
      "RMSE: 3.4048853587566366\n"
     ]
    }
   ],
   "source": [
    "r2 = r2_score(y_test,svr_test_pred)\n",
    "r2_train = r2_score(y_train,svr_train_pred)\n",
    "rmse = np.sqrt(mean_squared_error(y_test,svr_test_pred))\n",
    "variance = r2_train - r2\n",
    "Results = Results.append({\"Model\":\"Support Vector Machine\",\"Train R2\":r2_train,\"Test R2\":r2,\"Test RMSE\":rmse,\"Variance\":variance},ignore_index=True)\n",
    "print(\"R2:\",r2)\n",
    "print(\"RMSE:\",rmse)"
   ]
  },
  {
   "cell_type": "code",
   "execution_count": 54,
   "id": "52c40643-a07a-430f-bd98-f7bd377cfdf3",
   "metadata": {
    "tags": []
   },
   "outputs": [
    {
     "data": {
      "text/html": [
       "<div>\n",
       "<style scoped>\n",
       "    .dataframe tbody tr th:only-of-type {\n",
       "        vertical-align: middle;\n",
       "    }\n",
       "\n",
       "    .dataframe tbody tr th {\n",
       "        vertical-align: top;\n",
       "    }\n",
       "\n",
       "    .dataframe thead th {\n",
       "        text-align: right;\n",
       "    }\n",
       "</style>\n",
       "<table border=\"1\" class=\"dataframe\">\n",
       "  <thead>\n",
       "    <tr style=\"text-align: right;\">\n",
       "      <th></th>\n",
       "      <th>Model</th>\n",
       "      <th>Train R2</th>\n",
       "      <th>Test R2</th>\n",
       "      <th>Test RMSE</th>\n",
       "      <th>Variance</th>\n",
       "    </tr>\n",
       "  </thead>\n",
       "  <tbody>\n",
       "    <tr>\n",
       "      <th>0</th>\n",
       "      <td>K-Nearest Neighbors</td>\n",
       "      <td>0.666610</td>\n",
       "      <td>0.532324</td>\n",
       "      <td>3.592514</td>\n",
       "      <td>0.134286</td>\n",
       "    </tr>\n",
       "    <tr>\n",
       "      <th>1</th>\n",
       "      <td>Support Vector Machine</td>\n",
       "      <td>0.556381</td>\n",
       "      <td>0.579900</td>\n",
       "      <td>3.404885</td>\n",
       "      <td>-0.023519</td>\n",
       "    </tr>\n",
       "  </tbody>\n",
       "</table>\n",
       "</div>"
      ],
      "text/plain": [
       "                    Model  Train R2   Test R2  Test RMSE  Variance\n",
       "0     K-Nearest Neighbors  0.666610  0.532324   3.592514  0.134286\n",
       "1  Support Vector Machine  0.556381  0.579900   3.404885 -0.023519"
      ]
     },
     "execution_count": 54,
     "metadata": {},
     "output_type": "execute_result"
    }
   ],
   "source": [
    "Results.head()"
   ]
  },
  {
   "cell_type": "code",
   "execution_count": 57,
   "id": "e091f804-0901-4870-9582-c291588bfeb2",
   "metadata": {
    "tags": []
   },
   "outputs": [],
   "source": [
    "import statsmodels.api as sm"
   ]
  },
  {
   "cell_type": "code",
   "execution_count": 58,
   "id": "ab646f1e-ba71-4323-b07d-e659cc1bac8d",
   "metadata": {
    "tags": []
   },
   "outputs": [],
   "source": [
    "X_train_constant = sm.add_constant(X_train)"
   ]
  },
  {
   "cell_type": "code",
   "execution_count": 59,
   "id": "058d4385-9d3c-413b-9f8b-bbd70fddbb9f",
   "metadata": {
    "tags": []
   },
   "outputs": [],
   "source": [
    "model = sm.OLS(y_train, X_train_constant).fit()"
   ]
  },
  {
   "cell_type": "code",
   "execution_count": 60,
   "id": "5c6837e9-1223-4016-9da6-e470e3ac5050",
   "metadata": {
    "tags": []
   },
   "outputs": [
    {
     "data": {
      "text/plain": [
       "const    7.040538\n",
       "x1       0.046978\n",
       "dtype: float64"
      ]
     },
     "execution_count": 60,
     "metadata": {},
     "output_type": "execute_result"
    }
   ],
   "source": [
    "model.params"
   ]
  },
  {
   "cell_type": "code",
   "execution_count": 61,
   "id": "2ce61f8a-4c2a-4ce9-9124-f421ea72c011",
   "metadata": {
    "tags": []
   },
   "outputs": [
    {
     "name": "stdout",
     "output_type": "stream",
     "text": [
      "                            OLS Regression Results                            \n",
      "==============================================================================\n",
      "Dep. Variable:                  Sales   R-squared:                       0.603\n",
      "Model:                            OLS   Adj. R-squared:                  0.600\n",
      "Method:                 Least Squares   F-statistic:                     200.2\n",
      "Date:                Sun, 05 Feb 2023   Prob (F-statistic):           3.12e-28\n",
      "Time:                        13:23:41   Log-Likelihood:                -348.44\n",
      "No. Observations:                 134   AIC:                             700.9\n",
      "Df Residuals:                     132   BIC:                             706.7\n",
      "Df Model:                           1                                         \n",
      "Covariance Type:            nonrobust                                         \n",
      "==============================================================================\n",
      "                 coef    std err          t      P>|t|      [0.025      0.975]\n",
      "------------------------------------------------------------------------------\n",
      "const          7.0405      0.581     12.125      0.000       5.892       8.189\n",
      "x1             0.0470      0.003     14.149      0.000       0.040       0.054\n",
      "==============================================================================\n",
      "Omnibus:                        0.761   Durbin-Watson:                   2.111\n",
      "Prob(Omnibus):                  0.684   Jarque-Bera (JB):                0.817\n",
      "Skew:                           0.012   Prob(JB):                        0.665\n",
      "Kurtosis:                       2.618   Cond. No.                         358.\n",
      "==============================================================================\n",
      "\n",
      "Notes:\n",
      "[1] Standard Errors assume that the covariance matrix of the errors is correctly specified.\n"
     ]
    }
   ],
   "source": [
    "print(model.summary())"
   ]
  },
  {
   "cell_type": "code",
   "execution_count": 62,
   "id": "4dabf3ee-cbc8-4cbc-a088-b62ce52f1802",
   "metadata": {
    "tags": []
   },
   "outputs": [
    {
     "data": {
      "image/png": "[encoded data removed]",
      "text/plain": [
       "<Figure size 640x480 with 1 Axes>"
      ]
     },
     "metadata": {},
     "output_type": "display_data"
    }
   ],
   "source": [
    "plt.scatter(X_train, y_train)\n",
    "plt.plot(X_train, 6.9955 + 0.0541 * X_train, 'y')\n",
    "plt.show()"
   ]
  },
  {
   "cell_type": "code",
   "execution_count": 63,
   "id": "bd910b21-5214-4e56-8b6e-5f936afcfa84",
   "metadata": {
    "tags": []
   },
   "outputs": [
    {
     "data": {
      "text/plain": [
       "179   -2.220024\n",
       "180   -3.897226\n",
       "148    2.074314\n",
       "113   -0.987038\n",
       "77     1.498664\n",
       "         ...   \n",
       "170   -0.989417\n",
       "33    -2.117782\n",
       "95     2.188024\n",
       "196   -1.765825\n",
       "35    -7.896919\n",
       "Name: Sales, Length: 134, dtype: float64"
      ]
     },
     "execution_count": 63,
     "metadata": {},
     "output_type": "execute_result"
    }
   ],
   "source": [
    "y_train_pred = model.predict(X_train_constant)\n",
    "res = (y_train - y_train_pred)\n",
    "res"
   ]
  },
  {
   "cell_type": "code",
   "execution_count": 64,
   "id": "d857dde9-219b-4657-bf1a-991e9a7408af",
   "metadata": {
    "tags": []
   },
   "outputs": [
    {
     "data": {
      "text/plain": [
       "array([14.82002433, 14.39722616,  8.82568575, 16.88703764, 12.70133569,\n",
       "       15.08779651, 16.76019819, 13.96033471, 16.94341073, 14.87639742,\n",
       "       18.19301423, 18.31985368, 14.95156154, 17.75142502, 10.58734481,\n",
       "       15.72669153,  7.88143648, 18.3950178 , 18.70976755, 15.1441696 ,\n",
       "       20.96469116, 17.4883506 ,  7.07342219, 11.75708643, 17.06555242,\n",
       "        9.68067761, 13.39190605, 16.4266574 , 18.28227162, 19.31577827,\n",
       "       17.76551829, 18.31045817, 12.24095546, 10.14575561, 11.60675819,\n",
       "       16.32330674, 11.55978062, 11.28731068, 18.19301423, 10.56855378,\n",
       "       16.14009419, 19.57885269, 10.62962463, 11.62085147, 11.18865777,\n",
       "       20.22714323, 20.04862845,  9.06527138, 17.3662089 ,  7.44454504,\n",
       "        7.38347419, 14.07308089, 20.20365444, 20.26002753, 13.5187455 ,\n",
       "       12.5463097 ,  8.21967503, 18.05677926, 13.63149168, 11.13698244,\n",
       "       17.38969769, 18.96344646,  8.33242121, 18.31985368, 10.71418427,\n",
       "       16.3937731 , 14.72137142,  9.30955477, 11.25442638,  8.15860418,\n",
       "       15.86762426, 10.35715469, 10.4886919 , 15.35556869, 17.267556  ,\n",
       "       12.72482448,  8.77401041,  9.06057362, 16.32330674, 16.0179525 ,\n",
       "       12.94561908,  7.2942168 , 20.80026965, 12.34430612, 17.3004403 ,\n",
       "       17.85007793, 17.4883506 , 19.38154688, 17.71384296, 15.03612118,\n",
       "        7.84855218, 17.64807436,  7.84855218, 17.22527618, 20.47612438,\n",
       "       16.4266574 , 16.21995607, 15.35556869, 15.72669153,  7.43514952,\n",
       "       13.75363338,  9.55383816, 14.768349  , 17.30513806,  7.96129836,\n",
       "       15.53408347, 13.22748454, 18.82721149, 19.8983002 , 15.89111305,\n",
       "       20.5512885 , 10.62492687, 20.3962625 ,  8.83508126, 12.82347739,\n",
       "       19.49899082,  9.13103998,  8.89615211, 10.29138609, 18.46548416,\n",
       "        7.95190285, 10.80813942,  7.83445891,  9.74174846, 17.15950757,\n",
       "       13.34962623, 10.22561748, 10.28199057, 15.8629265 ,  9.38941665,\n",
       "       19.51778185, 14.71197591, 11.46582547, 20.69691898])"
      ]
     },
     "execution_count": 64,
     "metadata": {},
     "output_type": "execute_result"
    }
   ],
   "source": [
    "y_train_pred"
   ]
  },
  {
   "cell_type": "code",
   "execution_count": 65,
   "id": "544d4ed4-493f-49d4-a5f3-7b26deaf90c4",
   "metadata": {
    "tags": []
   },
   "outputs": [
    {
     "data": {
      "image/png": "[encoded data removed]",
      "text/plain": [
       "<Figure size 640x480 with 1 Axes>"
      ]
     },
     "metadata": {},
     "output_type": "display_data"
    }
   ],
   "source": [
    "fig = plt.figure()\n",
    "sns.distplot(res, bins = 15)\n",
    "fig.suptitle('Error Terms', fontsize = 15)\n",
    "plt.xlabel('Difference in y_train and y_train_pred', fontsize = 15)\n",
    "plt.show()"
   ]
  },
  {
   "cell_type": "code",
   "execution_count": 66,
   "id": "9105c6df-4b4d-4589-b393-54f77ca9376d",
   "metadata": {
    "tags": []
   },
   "outputs": [
    {
     "data": {
      "image/png": "[encoded data removed]",
      "text/plain": [
       "<Figure size 640x480 with 1 Axes>"
      ]
     },
     "metadata": {},
     "output_type": "display_data"
    }
   ],
   "source": [
    "plt.scatter(X_train, res)\n",
    "plt.show()"
   ]
  },
  {
   "cell_type": "code",
   "execution_count": 67,
   "id": "92aea9d9-7707-4f0a-a081-410cc63adc23",
   "metadata": {
    "tags": []
   },
   "outputs": [],
   "source": [
    "X_test_constant = sm.add_constant(X_test)\n",
    "y_pred = model.predict(X_test_constant)"
   ]
  },
  {
   "cell_type": "code",
   "execution_count": 68,
   "id": "01c2978c-8abf-4cd8-ba3e-6eeb033ae691",
   "metadata": {
    "tags": []
   },
   "outputs": [
    {
     "data": {
      "text/plain": [
       "array([13.19929799,  8.21497727,  7.23314595,  9.96724082,  7.91901854,\n",
       "       13.57981635,  8.38409654, 17.39909321, 12.19867564,  9.84040137,\n",
       "       16.75550043,  8.24316381, 20.3633782 , 10.18333767,  7.59017552,\n",
       "       16.67094079, 16.38437758, 14.07777865,  7.44924279, 16.55349686,\n",
       "       10.5779493 , 18.72855858,  9.1404355 , 10.25380403, 11.86513486,\n",
       "       11.06651608, 19.39094239, 12.19867564, 17.94403308, 19.03861058,\n",
       "       17.07025018, 20.03923293, 17.12662327, 10.62962463, 14.15764052,\n",
       "       18.30576041, 16.11660541, 13.11943611, 11.4517322 , 17.82189138,\n",
       "       13.43888362, 18.23059629, 15.29449784,  7.65594412, 17.56351472,\n",
       "       20.83315395,  7.9237163 ,  7.66064188,  7.40696298, 13.58451411,\n",
       "       15.2663113 ,  8.52033151,  8.2995369 , 12.08592946, 11.53629183,\n",
       "       12.48993661, 15.61864311, 13.59390962, 10.54976275, 13.67846926,\n",
       "       16.93871297, 11.95439225, 12.68724242, 20.64994141, 16.62866098,\n",
       "       17.20648515])"
      ]
     },
     "execution_count": 68,
     "metadata": {},
     "output_type": "execute_result"
    }
   ],
   "source": [
    "y_pred"
   ]
  },
  {
   "cell_type": "code",
   "execution_count": 69,
   "id": "87ae83ea-6c2c-45a8-95b8-5f3dcd78d684",
   "metadata": {
    "tags": []
   },
   "outputs": [],
   "source": [
    "from sklearn.metrics import mean_squared_error\n",
    "from sklearn.metrics import r2_score"
   ]
  },
  {
   "cell_type": "code",
   "execution_count": 70,
   "id": "9fa44e26-f3d5-4300-bb75-2fa567dd933b",
   "metadata": {
    "tags": []
   },
   "outputs": [
    {
     "data": {
      "text/plain": [
       "3.2120665721299475"
      ]
     },
     "execution_count": 70,
     "metadata": {},
     "output_type": "execute_result"
    }
   ],
   "source": [
    "np.sqrt(mean_squared_error(y_test, y_pred))"
   ]
  },
  {
   "cell_type": "code",
   "execution_count": 71,
   "id": "29ed5c67-a6b4-4904-ae2f-4440e1fe8b8e",
   "metadata": {
    "tags": []
   },
   "outputs": [
    {
     "data": {
      "text/plain": [
       "0.6261331770553109"
      ]
     },
     "execution_count": 71,
     "metadata": {},
     "output_type": "execute_result"
    }
   ],
   "source": [
    "r2 = r2_score(y_test, y_pred)\n",
    "r2"
   ]
  },
  {
   "cell_type": "code",
   "execution_count": 72,
   "id": "1de17e56-af28-4069-b66a-1a7d627db9f5",
   "metadata": {
    "tags": []
   },
   "outputs": [
    {
     "data": {
      "image/png": "[encoded data removed]",
      "text/plain": [
       "<Figure size 640x480 with 1 Axes>"
      ]
     },
     "metadata": {},
     "output_type": "display_data"
    }
   ],
   "source": [
    "plt.scatter(X_test, y_test)\n",
    "plt.plot(X_test, 6.9955 + 0.0541 * X_test, 'y')\n",
    "plt.show()"
   ]
  },
  {
   "cell_type": "code",
   "execution_count": null,
   "id": "0e7256f7-fcea-4b12-b0a7-9365a935b9fe",
   "metadata": {},
   "outputs": [],
   "source": []
  }
 ],
 "metadata": {
  "kernelspec": {
   "display_name": "Python 3 (ipykernel)",
   "language": "python",
   "name": "python3"
  },
  "language_info": {
   "codemirror_mode": {
    "name": "ipython",
    "version": 3
   },
   "file_extension": ".py",
   "mimetype": "text/x-python",
   "name": "python",
   "nbconvert_exporter": "python",
   "pygments_lexer": "ipython3",
   "version": "3.10.9"
  }
 },
 "nbformat": 4,
 "nbformat_minor": 5
}
